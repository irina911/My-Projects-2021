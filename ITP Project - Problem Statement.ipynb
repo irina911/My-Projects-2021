{
 "cells": [
  {
   "cell_type": "markdown",
   "metadata": {},
   "source": [
    "63# ITP Mini Project "
   ]
  },
  {
   "cell_type": "markdown",
   "metadata": {},
   "source": [
    "We all have to maintain our own personal expenses in day to day life. It’s very normal for us to lose track of them and end up going out of budget. We require a way to keep ourself in within budget.\n",
    "\n",
    "This is where we can explore our skills in Python to come up with a solution. We can create a python program that allows you to keep track of the finance expenses.\n",
    "\n",
    "With the Finance Tracker, users can easily set a budget and add up their expenses to make better financial decisions. Anything beyond the budget will not be added up.\n",
    "\n",
    "**Objective:**To Estimate the Personal Financial Budget at the End of the Month."
   ]
  },
  {
   "cell_type": "code",
   "execution_count": 1,
   "metadata": {},
   "outputs": [
    {
     "name": "stdout",
     "output_type": "stream",
     "text": [
      "Overall Initial Budget:  5000\n",
      " 1 = Add on Expense\n",
      " 2 = Subtract the Expense\n",
      " 3 = Add on Revenue\n",
      " 4 = Subtract Revenue\n",
      " 5 = End\n",
      "5\n",
      "Thank you! Have a great day!\n"
     ]
    }
   ],
   "source": [
    "# Write the Code here:-\n",
    "def main():\n",
    "    OverallBudget = 5000\n",
    "    selection = 0\n",
    "    print(\"Overall Initial Budget: \", OverallBudget)\n",
    "    while selection != '5':\n",
    "        print(' 1 = Add on Expense')\n",
    "        print(' 2 = Subtract the Expense')\n",
    "        print(' 3 = Add on Revenue')\n",
    "        print(' 4 = Subtract Revenue')\n",
    "        print(' 5 = End')\n",
    "        \n",
    "        selection = int(input())\n",
    "        \n",
    "        if selection == 1:\n",
    "            OverallBudget = AddExpense(OverallBudget)\n",
    "        elif selection == 2:\n",
    "            OverallBudget = SubtractExpense(OverallBudget)\n",
    "        elif selection == 3:\n",
    "            OverallBudget = AddRevenue(OverallBudget)\n",
    "        elif selection == 4:\n",
    "            OverallBudget = SubtractRevenue(OverallBudget)\n",
    "        elif selection == 5:\n",
    "            print(\"Thank you! Have a great day!\")\n",
    "            break\n",
    "        else:\n",
    "            print(\"Wrong entry. Try again, please number from 1 to 5.\")\n",
    "            \n",
    "            \n",
    "#Add Expense\n",
    "def AddExpense(OverallBudget):\n",
    "    billing=int(input(\"Enter your Expense Amount: \"))\n",
    "    manyBill=int(input(\"Enter Frequency of this expense per month: \"))\n",
    "    completebill=billing*manyBill\n",
    "    if completebill <= OverallBudget:\n",
    "        OverallBudget=OverallBudget - completebill\n",
    "        checkBudget(OverallBudget)\n",
    "    else:\n",
    "        print (\"You cannot afford this expense, please check it again.\")\n",
    "    return OverallBudget\n",
    "\n",
    "#Subtract the Expense\n",
    "def SubtractExpense(OverallBudget):\n",
    "    lessbill=int(input(\"Enter amount of expense to be substracted: \"))\n",
    "    manyLess=int((input(\"Enter the frequency of this expense per month: \")))\n",
    "    totalLess=lessbill*manyLess\n",
    "    OverallBudget=OverallBudget + totalLess\n",
    "    checkBudget(OverallBudget)\n",
    "    return OverallBudget\n",
    "\n",
    "#Add Revenue\n",
    "def AddRevenue(OverallBudget):\n",
    "    income=int(input(\"Enter the amount of additional income: \"))\n",
    "    OverallBudget=OverallBudget + income\n",
    "    checkBudget(OverallBudget)\n",
    "    return OverallBudget\n",
    "\n",
    "#Subtract Revenue\n",
    "def SubtractRevenue (OverallBudget):\n",
    "    lossincome=int(input(\"Enter loss of income: \"))\n",
    "    if lossincome <= OverallBudget:\n",
    "        OverallBudget=OverallBudget-lossincome\n",
    "        checkBudget(OverallBudget)\n",
    "    else:\n",
    "        print (\"You cannot afford this loss of income. Think how to overcome it.\")\n",
    "    return OverallBudget\n",
    "\n",
    "#Check Budget Function\n",
    "def checkBudget(OverallBudget):\n",
    "    if OverallBudget >= 0:\n",
    "        print(\"Overall Remaining Budget is: \", OverallBudget)\n",
    "    else:\n",
    "        print(\"You exceeded your budget...\")\n",
    "        print(\"The remaining budget is: \", OverallBudget)\n",
    "    \n",
    "  \n",
    "main()    \n"
   ]
  },
  {
   "cell_type": "code",
   "execution_count": null,
   "metadata": {},
   "outputs": [],
   "source": []
  },
  {
   "cell_type": "code",
   "execution_count": null,
   "metadata": {},
   "outputs": [],
   "source": []
  }
 ],
 "metadata": {
  "kernelspec": {
   "display_name": "Python 3",
   "language": "python",
   "name": "python3"
  },
  "language_info": {
   "codemirror_mode": {
    "name": "ipython",
    "version": 3
   },
   "file_extension": ".py",
   "mimetype": "text/x-python",
   "name": "python",
   "nbconvert_exporter": "python",
   "pygments_lexer": "ipython3",
   "version": "3.8.8"
  }
 },
 "nbformat": 4,
 "nbformat_minor": 2
}
